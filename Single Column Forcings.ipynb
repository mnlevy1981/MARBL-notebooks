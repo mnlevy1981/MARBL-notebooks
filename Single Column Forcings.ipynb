{
 "cells": [
  {
   "cell_type": "code",
   "execution_count": 1,
   "metadata": {},
   "outputs": [
    {
     "name": "stdout",
     "output_type": "stream",
     "text": [
      "Populating the interactive namespace from numpy and matplotlib\n"
     ]
    }
   ],
   "source": [
    "from netCDF4 import Dataset\n",
    "import matplotlib.pyplot as plt\n",
    "\n",
    "%pylab inline\n",
    "pylab.rcParams['figure.figsize'] = (18.0, 10.0) # Large figures"
   ]
  },
  {
   "cell_type": "code",
   "execution_count": 2,
   "metadata": {
    "collapsed": true
   },
   "outputs": [],
   "source": [
    "# gx3v7 output; daily averages\n",
    "casename='C1850ECO.T62_g37.ciso.marbl_dev_levy'\n",
    "rundir='/glade2/scratch2/mlevy/%s/run' % casename\n",
    "date='0001-01-02'\n",
    "#print '%s/%s.pop.h.%s.nc' % (rundir, casename, casename)\n",
    "hist=Dataset('%s/%s.pop.h.%s.nc' % (rundir, casename, date), 'r')"
   ]
  },
  {
   "cell_type": "code",
   "execution_count": 3,
   "metadata": {},
   "outputs": [
    {
     "name": "stdout",
     "output_type": "stream",
     "text": [
      "Longitude: 143.3\n",
      "Latitude: -45.6946538378\n"
     ]
    }
   ],
   "source": [
    "import numpy as np\n",
    "\n",
    "# Dictionaries to store data and metadata\n",
    "data_to_write = dict()\n",
    "metadata = dict()\n",
    "\n",
    "# Pick an (i,j)\n",
    "# (17,18) is Southern Ocean (28.1 E, 50.576 S); has 56 levels\n",
    "# (19,50) is near SOFS site SW of Tasmania (143.3 E, 45.695 S); has 54 levels\n",
    "lat_in = 19\n",
    "lon_in = 50\n",
    "print \"Longitude:\", hist.variables['TLONG'][lat_in,lon_in]\n",
    "print \"Latitude:\", hist.variables['TLAT'][lat_in,lon_in]"
   ]
  },
  {
   "cell_type": "code",
   "execution_count": 4,
   "metadata": {},
   "outputs": [
    {
     "name": "stdout",
     "output_type": "stream",
     "text": [
      "minimum depth from surface to midpoint of layer: 5.0\n",
      "maximum depth from surface to midpoint of layer: 5374.999817\n",
      "minimum depth from surface to top of layer: 0.0\n",
      "maximum depth from surface to top of layer: 5499.990364\n",
      "Number of active levels: 54\n",
      "Number of levels: 60\n"
     ]
    }
   ],
   "source": [
    "###############\n",
    "# DOMAIN INFO #\n",
    "###############\n",
    "\n",
    "# Note: LHS uses MARBL naming convention, everything converted to mks units\n",
    "data_to_write['km'] = hist.dimensions['z_t'].size\n",
    "metadata['km'] = dict()\n",
    "metadata['km']['longname'] = 'Number of levels'\n",
    "\n",
    "data_to_write['kw'] = data_to_write['km']+1 # just need a new dimension for zw, which is size km+1\n",
    "metadata['kw'] = dict()\n",
    "metadata['kw']['longname'] = 'Number of interfaces'\n",
    "\n",
    "data_to_write['kmt'] = hist.variables['KMT'][lat_in,lon_in]\n",
    "metadata['kmt'] = dict()\n",
    "metadata['kmt']['longname'] = 'Number of active levels'\n",
    "\n",
    "data_to_write['zt'] = hist.variables['z_t'][:]/100.\n",
    "metadata['zt'] = dict()\n",
    "metadata['zt']['longname'] = 'depth from surface to midpoint of layer'\n",
    "metadata['zt']['units'] = 'm'\n",
    "\n",
    "data_to_write['zw'] = np.append(hist.variables['z_w'][:]/100.,\n",
    "                                hist.variables['z_w_bot'][data_to_write['km']-1]/100.)\n",
    "metadata['zw'] = dict()\n",
    "metadata['zw']['longname'] = 'depth from surface to top of layer'\n",
    "metadata['zw']['units'] = 'm'\n",
    "\n",
    "data_to_write['delta_z'] = hist.variables['dz'][:]/100.\n",
    "metadata['delta_z'] = dict()\n",
    "metadata['delta_z']['longname'] = 'thickness of layer'\n",
    "metadata['delta_z']['units'] = 'm'\n",
    "\n",
    "for domain_var in ['zt', 'zw']:\n",
    "    print \"minimum %s: %s\" % (metadata[domain_var]['longname'], np.min(data_to_write[domain_var]))\n",
    "    print \"maximum %s: %s\" % (metadata[domain_var]['longname'], np.max(data_to_write[domain_var]))\n",
    "\n",
    "for domain_var in ['kmt', 'km']:\n",
    "    print \"%s: %s\" % (metadata[domain_var]['longname'], data_to_write[domain_var])\n"
   ]
  },
  {
   "cell_type": "code",
   "execution_count": 5,
   "metadata": {},
   "outputs": [
    {
     "name": "stdout",
     "output_type": "stream",
     "text": [
      "Dust Flux: 4.12074033795e-13 (kg/m^2)/s\n",
      "Solar Short-Wave Heat Flux: 239.414673416 W/m^2\n"
     ]
    }
   ],
   "source": [
    "#######################################\n",
    "# Interior Forcings from history file #\n",
    "#######################################\n",
    "\n",
    "data_to_write['dustflux'] = hist.variables['DUST_FLUX'][0,lat_in, lon_in]*10.\n",
    "metadata['dustflux'] = dict()\n",
    "metadata['dustflux']['longname'] = 'Dust Flux'\n",
    "metadata['dustflux']['units'] = '(kg/m^2)/s'\n",
    "\n",
    "data_to_write['surf_shortwave'] = hist.variables['SHF_QSW'][0,lat_in, lon_in]\n",
    "metadata['surf_shortwave'] = dict()\n",
    "metadata['surf_shortwave']['longname'] = 'Solar Short-Wave Heat Flux'\n",
    "metadata['surf_shortwave']['units'] = 'W/m^2'\n",
    "\n",
    "data_to_write['potemp'] = hist.variables['TEMP'][0,:,lat_in, lon_in]\n",
    "metadata['potemp'] = dict()\n",
    "metadata['potemp']['longname'] = 'Potential Temperature'\n",
    "metadata['potemp']['units'] = 'degC'\n",
    "\n",
    "data_to_write['salinity'] = hist.variables['SALT'][0,:,lat_in, lon_in]/1000.\n",
    "metadata['salinity'] = dict()\n",
    "metadata['salinity']['longname'] = 'Salinity'\n",
    "metadata['salinity']['units'] = 'kg/kg'\n",
    "\n",
    "for surface_forcing in ['dustflux', 'surf_shortwave']:\n",
    "    print \"%s: %s %s\" % (metadata[surface_forcing]['longname'],\n",
    "                         data_to_write[surface_forcing],\n",
    "                         metadata[surface_forcing]['units'])"
   ]
  },
  {
   "cell_type": "code",
   "execution_count": 6,
   "metadata": {},
   "outputs": [
    {
     "name": "stdout",
     "output_type": "stream",
     "text": [
      "Dust Flux: 4.12074033795e-13 (kg/m^2)/s\n",
      "Sea Surface Temperature: 12.5062636761 degC\n",
      "Sea Surface Salinity: 0.0348654364904 kg/kg\n"
     ]
    }
   ],
   "source": [
    "######################################\n",
    "# Surface Forcings from history file #\n",
    "######################################\n",
    "\n",
    "data_to_write['dust_flux'] = data_to_write['dustflux']\n",
    "metadata['dust_flux'] = dict(metadata['dustflux'])\n",
    "\n",
    "data_to_write['sst'] = data_to_write['potemp'][0]\n",
    "metadata['sst'] = dict(metadata['potemp'])\n",
    "metadata['sst']['longname'] = 'Sea Surface Temperature'\n",
    "\n",
    "data_to_write['sss'] = data_to_write['salinity'][0]\n",
    "metadata['sss'] = dict(metadata['salinity'])\n",
    "metadata['sss']['longname'] = 'Sea Surface Salinity'\n",
    "\n",
    "for surface_forcing in ['dust_flux', 'sst', 'sss']:\n",
    "    print \"%s: %s %s\" % (metadata[surface_forcing]['longname'],\n",
    "                         data_to_write[surface_forcing],\n",
    "                         metadata[surface_forcing]['units'])"
   ]
  },
  {
   "cell_type": "code",
   "execution_count": 7,
   "metadata": {},
   "outputs": [
    {
     "data": {
      "image/png": "[encoded data removed]",
      "text/plain": [
       "<matplotlib.figure.Figure at 0x2aaad7c3b390>"
      ]
     },
     "metadata": {},
     "output_type": "display_data"
    }
   ],
   "source": [
    "# Plot Potential Temperature\n",
    "for n, interior_forcing in enumerate(['potemp', 'salinity']):\n",
    "    plt.subplot(1,2,n+1);\n",
    "    plt.plot(data_to_write[interior_forcing], data_to_write['zt']);\n",
    "    plt.title(\"%s in the Column\" % metadata[interior_forcing]['longname']);\n",
    "    plt.xlabel(\"%s (%s)\" % (metadata[interior_forcing]['longname'], metadata['potemp']['units']));\n",
    "    plt.ylim(max(data_to_write['zt']), min(data_to_write['zt']));\n",
    "    if n == 0:\n",
    "        # Only want y-axis label on left-most plot\n",
    "        plt.ylabel(\"depth (m)\");\n",
    "    if interior_forcing == 'potemp':\n",
    "        plt.xlim(0., 13.);\n",
    "    if interior_forcing == 'salinity':\n",
    "        plt.xlim(0.034, 0.035);\n"
   ]
  }
 ],
 "metadata": {
  "kernelspec": {
   "display_name": "Python 2",
   "language": "python",
   "name": "python2"
  },
  "language_info": {
   "codemirror_mode": {
    "name": "ipython",
    "version": 2
   },
   "file_extension": ".py",
   "mimetype": "text/x-python",
   "name": "python",
   "nbconvert_exporter": "python",
   "pygments_lexer": "ipython2",
   "version": "2.7.13"
  }
 },
 "nbformat": 4,
 "nbformat_minor": 2
}
