{
 "cells": [
  {
   "cell_type": "code",
   "execution_count": 1,
   "metadata": {
    "collapsed": false,
    "deletable": true,
    "editable": true
   },
   "outputs": [
    {
     "name": "stdout",
     "output_type": "stream",
     "text": [
      "Populating the interactive namespace from numpy and matplotlib\n"
     ]
    }
   ],
   "source": [
    "import xarray as xr\n",
    "import numpy as np\n",
    "%pylab inline\n",
    "pylab.rcParams['figure.figsize'] = (18.0, 10.0); # Large figures"
   ]
  },
  {
   "cell_type": "code",
   "execution_count": 2,
   "metadata": {
    "collapsed": false,
    "deletable": true,
    "editable": true
   },
   "outputs": [
    {
     "name": "stdout",
     "output_type": "stream",
     "text": [
      "Opening /Users/mlevy/MARBL_data/POP_hist.nc\n"
     ]
    }
   ],
   "source": [
    "import os\n",
    "\n",
    "# gx3v7 output; daily averages\n",
    "filename = os.path.expanduser('~/')+'MARBL_data/POP_hist.nc'\n",
    "if not os.path.isfile(filename):\n",
    "    casename='C1850ECO.T62_g37.ciso.marbl_dev_levy'\n",
    "    rundir='/glade2/scratch2/mlevy/%s/run' % casename\n",
    "    date='0001-01-02'\n",
    "    filename = '%s/%s.pop.h.%s.nc' % (rundir, casename, date)\n",
    "\n",
    "if os.path.isfile(filename):\n",
    "    print(\"Opening %s\" % filename)\n",
    "    ds = xr.open_dataset(filename, decode_times=False, decode_coords=False)\n",
    "else:\n",
    "    print(\"Can not find %s\" % filename)"
   ]
  },
  {
   "cell_type": "code",
   "execution_count": 3,
   "metadata": {},
   "outputs": [],
   "source": [
    "# Functions for altering data\n",
    "\n",
    "def pressure(depth):\n",
    "    \"\"\"\n",
    "    ! !DESCRIPTION:\n",
    "    !  This function computes pressure in bars from depth in meters\n",
    "    !  using a mean density derived from depth-dependent global\n",
    "    !  average temperatures and salinities from Levitus 1994, and\n",
    "    !  integrating using hydrostatic balance.\n",
    "    !\n",
    "    !  References:\n",
    "    !\n",
    "    !     Levitus, S., R. Burgett, and T.P. Boyer, World Ocean Atlas\n",
    "    !          1994, Volume 3: Salinity, NOAA Atlas NESDIS 3, US Dept. of\n",
    "    !          Commerce, 1994.\n",
    "    !\n",
    "    !     Levitus, S. and T.P. Boyer, World Ocean Atlas 1994,\n",
    "    !          Volume 4: Temperature, NOAA Atlas NESDIS 4, US Dept. of\n",
    "    !          Commerce, 1994.\n",
    "    !\n",
    "    !     Dukowicz, J. K., 2000: Reduction of Pressure and Pressure\n",
    "    !          Gradient Errors in Ocean Simulations, J. Phys. Oceanogr.,\n",
    "    !          submitted.\n",
    "    \"\"\"\n",
    "    # Taken from pressure() in POP's state_mod.F90\n",
    "    # Note that this function returns value in units of atm rather than bars\n",
    "    # [consistent with units of atmospheric pressure]\n",
    "    return(0.059808*(exp(-0.025*depth)-1.) + 0.100766*depth + 2.28405e-7*depth*depth)\n",
    "\n",
    "def xkw_to_u10sqr(xkw):\n",
    "    # in marbl_diagnostics_mod.F90: diags(ind_diag%ECOSYS_XKW)%field_2d(:) = piston_velocity(:)\n",
    "    # in marbl_mod.F90:             piston_velocity = xkw_coeff*u10_sqr(:)\n",
    "    # in marbl_settings_mod.F90:    xkw_coeff =   6.97e-9_r8 ! in s/cm, from a = 0.251 cm/hr s^2/m^2 in Wannikhof 2014\n",
    "    xkw_coeff = 6.97e-9 # s/cm\n",
    "    # Note that this function returns value in units m^/s^2 rather than cm^2/s^2\n",
    "    return((xkw/xkw_coeff)*0.0001)\n",
    "\n",
    "def get_surface_value(data_in, column_var):\n",
    "    # first just populate it with SHF_QSW(another scalar) to get all metadata\n",
    "    new_ds = data_in['SHF_QSW'].copy(deep=True)\n",
    "    new_ds.values = data_in[column_var].values[0]\n",
    "    new_ds.attrs['long_name'] = data_in[column_var].attrs['long_name']\n",
    "    new_ds.attrs['units'] = data_in[column_var].attrs['units']\n",
    "    try:\n",
    "        new_ds.encoding['scale_factor'] = data_in[column_var].encoding['scale_factor']\n",
    "    except:\n",
    "        pass\n",
    "    return(new_ds)"
   ]
  },
  {
   "cell_type": "code",
   "execution_count": 4,
   "metadata": {
    "collapsed": true,
    "deletable": true,
    "editable": true
   },
   "outputs": [
    {
     "name": "stdout",
     "output_type": "stream",
     "text": [
      "(lon, lat) = (28.1, -50.907)\n",
      "There are 55.0 levels\n"
     ]
    }
   ],
   "source": [
    "# Variables to keep (POP Variable Names)\n",
    "grid_vars = ['TLAT', 'TLONG', 'z_t', 'z_t_150m', 'z_w_bot', 'dz']\n",
    "forcing_vars = ['ECOSYS_XKW', 'ATM_FINE_DUST_FLUX_CPL', 'ATM_COARSE_DUST_FLUX_CPL', \n",
    "                'SEAICE_DUST_FLUX_CPL', 'SHF_QSW', 'TEMP', 'SALT', 'ECOSYS_ATM_PRESS',\n",
    "                'ECOSYS_IFRAC', 'IRON_FLUX', 'NOx_FLUX', 'NHy_FLUX', 'ATM_CO2', 'ATM_ALT_CO2']\n",
    "base_tracers = ['PO4', 'NO3', 'SiO3', 'NH4', 'Fe', 'Lig', 'O2', 'DIC', 'DIC_ALT_CO2', 'ALK', 'ALK_ALT_CO2',\n",
    "                'DOC', 'DON', 'DOP', 'DOPr', 'DONr', 'DOCr', 'zooC', 'spChl', 'spC', 'spP', 'spFe', 'spCaCO3',\n",
    "                'diatChl', 'diatC', 'diatP', 'diatFe', 'diatSi', 'diazChl', 'diazC', 'diazP', 'diazFe']\n",
    "ciso_tracers = ['DI13C', 'DO13C', 'DI14C', 'DO14C', 'zoo13C', 'zoo14C', 'sp14C', 'sp14C',\n",
    "                'spCa13CO3', 'spCa14CO3', 'diat13C', 'diat14c', 'diaz13C', 'diaz14C']\n",
    "vars_to_keep = grid_vars + forcing_vars + base_tracers + ciso_tracers\n",
    "# Pick a (lat, lon)\n",
    "# gx3v7\n",
    "# (17,18) is Southern Ocean (28.1 E, 50.576 S); has 56 levels\n",
    "# (19,50) is near SOFS site SW of Tasmania (143.3 E, 45.695 S); has 54 levels\n",
    "# ---\n",
    "# gx1v7\n",
    "# (53, 60) is Southern Ocean (28.1 E, 50.907 S); has 58 levels\n",
    "# (63, 163) is near SOFS site SW of Tasmania (143.9 E, 45.564 S); has 55 levels\n",
    "\n",
    "lat_in = 53\n",
    "lon_in = 60\n",
    "\n",
    "lon = ds.isel(time=0, nlat=lat_in, nlon=lon_in)['TLONG'].values\n",
    "lat = ds.isel(time=0, nlat=lat_in, nlon=lon_in)['TLAT'].values\n",
    "depth_cnt = ds.isel(time=0, nlat=lat_in, nlon=lon_in)['KMT'].values\n",
    "\n",
    "# Verify location\n",
    "print('(lon, lat) = ({:.1f}, {:.3f})'.format(lon, lat))\n",
    "print('There are {} levels'.format(depth_cnt))\n",
    "\n",
    "# Set up separate data sets for forcing and initial conditions\n",
    "#forcing_col = raw_data.copy(deep=True)\n",
    "#forcing_col.drop([v for v in raw_data.variables if v not in grid_vars + forcing_vars])"
   ]
  },
  {
   "cell_type": "code",
   "execution_count": 5,
   "metadata": {},
   "outputs": [],
   "source": [
    "# Reduce data\n",
    "raw_data = ds.isel(time=0, nlat=lat_in, nlon=lon_in).drop([v for v in ds.variables if v not in vars_to_keep])\n",
    "for var_name in raw_data.variables:\n",
    "    if 'coordinates' in raw_data[var_name].attrs:\n",
    "        del(raw_data[var_name].attrs['coordinates'])\n",
    "\n",
    "# unit conversion\n",
    "# cm to m\n",
    "for varname in ['z_t', 'z_t_150m', 'z_w_bot', 'dz']:\n",
    "    raw_data[varname].values = raw_data[varname].values*0.01\n",
    "    raw_data[varname].attrs['units'] = 'm'\n",
    "\n",
    "# nmol/cm^2/s to mmol/m^2/s\n",
    "for varname in ['NOx_FLUX', 'NHy_FLUX']:\n",
    "    raw_data[varname].values = raw_data[varname].values*0.01\n",
    "    raw_data[varname].attrs['units'] = 'mmol/m^2/s'\n",
    "\n",
    "# g/cm^2/s to kg/m^2/s\n",
    "for varname in ['ECOSYS_XKW', 'ATM_FINE_DUST_FLUX_CPL', 'ATM_COARSE_DUST_FLUX_CPL', 'SEAICE_DUST_FLUX_CPL']:\n",
    "    raw_data[varname].values = raw_data[varname].values*10.\n",
    "    raw_data[varname].attrs['units'] = 'kg/m^2/s'\n",
    "\n",
    "# salinity units should be psu\n",
    "raw_data['SALT'].attrs['units'] = 'psu'\n",
    "\n",
    "# Add SST, SSS, u10_sqr and pressure to dataset\n",
    "raw_data['SST'] = get_surface_value(raw_data, 'TEMP')\n",
    "raw_data['SSS'] = get_surface_value(raw_data, 'SALT')\n",
    "\n",
    "# u10_sqr\n",
    "varname = 'U10_SQR'\n",
    "# first just populate it with SHF_QSW(another scalar) to get all metadata\n",
    "raw_data[varname] = raw_data['SHF_QSW']\n",
    "raw_data[varname].values = xkw_to_u10sqr(raw_data['ECOSYS_XKW'].values)\n",
    "raw_data[varname].attrs['long_name'] = '10m wind speed squared'\n",
    "raw_data[varname].attrs['units'] = 'm^2/s^2'\n",
    "\n",
    "# pressure\n",
    "varname = 'pressure'\n",
    "# first just populate it with TEMP (another 1D var) to get all metadata\n",
    "raw_data[varname] = raw_data['TEMP']\n",
    "raw_data[varname].values = np.where(np.isnan(raw_data[varname].values),\n",
    "                                      np.nan,\n",
    "                                      pressure(raw_data['z_t'].values))\n",
    "raw_data[varname].attrs['long_name'] = 'Pressure'\n",
    "raw_data[varname].attrs['units'] = 'bars'"
   ]
  },
  {
   "cell_type": "code",
   "execution_count": 6,
   "metadata": {},
   "outputs": [],
   "source": [
    "raw_data.to_netcdf('raw_data.nc')\n",
    "\n",
    "# Variables to keep (MARBL variable names)\n",
    "grid_vars_to_MARBL = {'lat': 'TLAT', 'lon' : 'TLONG', 'z_t' : 'z_t', 'delta_z' : 'dz'}\n",
    "forcing_vars_to_MARBL = {'u10_sqr' : 'U10_SQR', 'temperature' : 'TEMP', 'salinity' : 'SALT', 'atm_pressure' : 'ECOSYS_ATM_PRESS',\n",
    "                         'ice_frac' : 'ECOSYS_IFRAC', 'iron_flux' : 'IRON_FLUX', 'nox_flux' : 'NOx_FLUX', 'nhy_flux' : 'NHy_FLUX',\n",
    "                         'atm_co2' : 'ATM_CO2', 'atm_alt_co2' : 'ATM_CO2', 'pressure' : 'pressure'}\n",
    "# ['ECOSYS_XKW', 'ATM_FINE_DUST_FLUX_CPL', 'ATM_COARSE_DUST_FLUX_CPL', \n",
    "#  'SEAICE_DUST_FLUX_CPL', 'SHF_QSW', 'TEMP', 'SALT', 'ECOSYS_ATM_PRESS',\n",
    "#  'ECOSYS_IFRAC', 'IRON_FLUX', 'NOx_FLUX', 'NHy_FLUX', 'ATM_CO2', 'ATM_ALT_CO2']\n",
    "tracers_MARBL = base_tracers + ciso_tracers\n",
    "\n",
    "MARBL_data = raw_data.copy(deep=True).drop(raw_data.variables)\n",
    "for MARBL_name, POP_name in grid_vars_to_MARBL.items():\n",
    "    MARBL_data[MARBL_name] = raw_data[POP_name]\n",
    "for MARBL_name, POP_name in forcing_vars_to_MARBL.items():\n",
    "    MARBL_data[MARBL_name] = raw_data[POP_name]\n",
    "\n",
    "# dust flux is sum of atm fine dust, atm coarse dust, and seaice dust fluxes\n",
    "MARBL_data['dust_flux'] = raw_data['ATM_FINE_DUST_FLUX_CPL'] + raw_data['ATM_COARSE_DUST_FLUX_CPL'] + \\\n",
    "                          raw_data['SEAICE_DUST_FLUX_CPL']\n",
    "MARBL_data['dust_flux'].attrs = raw_data['ATM_FINE_DUST_FLUX_CPL'].attrs\n",
    "MARBL_data['dust_flux'].attrs['long_name'] = 'Dust Flux'\n",
    "\n",
    "MARBL_data.rename({'z_t' : 'zt'}, inplace=True)\n",
    "MARBL_data.to_netcdf('marbl.nc')"
   ]
  },
  {
   "cell_type": "code",
   "execution_count": 7,
   "metadata": {
    "collapsed": true,
    "deletable": true,
    "editable": true
   },
   "outputs": [],
   "source": [
    "def update_xlim(interior_forcing):\n",
    "    if interior_forcing == 'tmperature':\n",
    "        plt.xlim(0, 13)\n",
    "    if interior_forcing == 'salinity':\n",
    "        plt.xlim(34, 35)\n",
    "    if interior_forcing == 'pressure':\n",
    "        plt.xlim(0,400)"
   ]
  },
  {
   "cell_type": "code",
   "execution_count": 8,
   "metadata": {
    "collapsed": false,
    "deletable": true,
    "editable": true
   },
   "outputs": [
    {
     "data": {
      "image/png": "[encoded data removed]",
      "text/plain": [
       "<Figure size 432x288 with 3 Axes>"
      ]
     },
     "metadata": {},
     "output_type": "display_data"
    }
   ],
   "source": [
    "fig, axes = plt.subplots(ncols=3)\n",
    "plt.xlim(400000,0)\n",
    "\n",
    "for n, interior_forcing in enumerate(['temperature', 'salinity', 'pressure']):\n",
    "    MARBL_data[interior_forcing].plot(ax=axes[n])\n",
    "    plt.subplot(1,3,n+1);\n",
    "    plt.plot(MARBL_data[interior_forcing].values, MARBL_data['zt'].values);\n",
    "    plt.ylim(max(MARBL_data['zt'].values), min(MARBL_data['zt'].values));\n",
    "    plt.xlabel(interior_forcing)\n",
    "    # Only want y-axis label and tick labels on left-most plot\n",
    "    plt.ylabel(\"depth (m)\" if (n == 0) else \"\")\n",
    "    plt.tick_params(labelleft=(n == 0))\n",
    "        \n",
    "    update_xlim(interior_forcing);"
   ]
  }
 ],
 "metadata": {
  "kernelspec": {
   "display_name": "Python 3",
   "language": "python",
   "name": "python3"
  },
  "language_info": {
   "codemirror_mode": {
    "name": "ipython",
    "version": 3
   },
   "file_extension": ".py",
   "mimetype": "text/x-python",
   "name": "python",
   "nbconvert_exporter": "python",
   "pygments_lexer": "ipython3",
   "version": "3.6.6"
  }
 },
 "nbformat": 4,
 "nbformat_minor": 2
}
