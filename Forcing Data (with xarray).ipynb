{
 "cells": [
  {
   "cell_type": "markdown",
   "metadata": {},
   "source": [
    "### Generate MARBL initial conditions and forcings from POP history output\n",
    "\n",
    "A notebook that pulls specified (lat, lon) columns out of a POP history file. The resulting file will have a column dimension.\n",
    "\n",
    "Notes:\n",
    "1. Run a `G1850ECO` compset to get the correct number of PAR subcolumns\n",
    "1. Run with `lecovars_full_depth_tavg = .true.` to get full-depth for autotroph / zooplankton tracers\n",
    "1. Run with `POP_TAVG_R8 = TRUE` to get double-precision history files\n",
    "1. Can be run with any resolution, but you must know the indices for the (lat, lon) coordinates"
   ]
  },
  {
   "cell_type": "code",
   "execution_count": 1,
   "metadata": {
    "collapsed": false,
    "deletable": true,
    "editable": true
   },
   "outputs": [
    {
     "name": "stdout",
     "output_type": "stream",
     "text": [
      "Populating the interactive namespace from numpy and matplotlib\n"
     ]
    }
   ],
   "source": [
    "import xarray as xr\n",
    "import numpy as np\n",
    "import physics # local file with helper functions\n",
    "\n",
    "%pylab inline\n",
    "pylab.rcParams['figure.figsize'] = (18.0, 10.0); # Large figures\n",
    "\n",
    "# Pick a (lat, lon)\n",
    "# gx3v7\n",
    "# (17,18) is Southern Ocean (28.1 E, 50.576 S); has 56 levels\n",
    "# (19,50) is near SOFS site SW of Tasmania (143.3 E, 45.695 S); has 54 levels\n",
    "# ---\n",
    "# gx1v7\n",
    "# (53, 60) is Southern Ocean (28.1 E, 50.907 S); has 58 levels\n",
    "# (63, 163) is near SOFS site SW of Tasmania (143.9 E, 45.564 S); has 55 levels\n",
    "\n",
    "lat_in = [53, 63]\n",
    "lon_in = [60, 163]\n",
    "ncol = min(len(lat_in), len(lon_in))"
   ]
  },
  {
   "cell_type": "code",
   "execution_count": 2,
   "metadata": {
    "collapsed": false,
    "deletable": true,
    "editable": true
   },
   "outputs": [
    {
     "name": "stdout",
     "output_type": "stream",
     "text": [
      "Opening /Users/mlevy/MARBL_data/POP_hist.nc\n"
     ]
    }
   ],
   "source": [
    "import os\n",
    "\n",
    "# gx1v7 output; daily averages\n",
    "filename = os.path.join(os.path.expanduser('~/'), 'MARBL_data', 'POP_hist.nc')\n",
    "if not os.path.isfile(filename):\n",
    "    casename='g.e21.G1850ECO.T62_g17.gen_single_col'\n",
    "    rundir=os.path.join(os.path.sep, 'glade', 'scratch', 'mlevy', casename, 'run')\n",
    "    date='0001-01'\n",
    "    filename = os.path.join(rundir, '%s.pop.h.%s.nc' % (casename, date))\n",
    "\n",
    "if os.path.isfile(filename):\n",
    "    print(\"Opening %s\" % filename)\n",
    "    ds_in = xr.open_dataset(filename, decode_times=False, decode_coords=False)\n",
    "else:\n",
    "    print(\"Can not find %s\" % filename)"
   ]
  },
  {
   "cell_type": "code",
   "execution_count": 3,
   "metadata": {
    "collapsed": true,
    "deletable": true,
    "editable": true
   },
   "outputs": [
    {
     "name": "stdout",
     "output_type": "stream",
     "text": [
      "Column 1 of 2:\n",
      "(lon, lat) = (28.1, -50.907)\n",
      "There are 55.0 levels\n",
      "\n",
      "\n",
      "Column 2 of 2:\n",
      "(lon, lat) = (143.9, -45.564)\n",
      "There are 55.0 levels\n"
     ]
    }
   ],
   "source": [
    "# Variables to keep (POP Variable Names)\n",
    "grid_vars = ['TLAT', 'TLONG', 'z_t', 'z_t_150m', 'z_w_bot', 'dz']\n",
    "forcing_vars = ['ECOSYS_XKW', 'ATM_FINE_DUST_FLUX_CPL', 'ATM_COARSE_DUST_FLUX_CPL', \n",
    "                'SEAICE_DUST_FLUX_CPL', 'TEMP', 'SALT', 'ECOSYS_ATM_PRESS', 'FESEDFLUX',\n",
    "                'ECOSYS_IFRAC', 'IRON_FLUX', 'NOx_FLUX', 'NHy_FLUX', 'ATM_CO2', 'ATM_ALT_CO2']\n",
    "base_tracers = ['PO4', 'NO3', 'SiO3', 'NH4', 'Fe', 'Lig', 'O2', 'DIC', 'ALK', 'DOC', 'DON', 'DOP', 'DOPr',\n",
    "                'DONr', 'DOCr', 'zooC', 'spChl', 'spC', 'spP', 'spFe', 'spCaCO3', 'diatChl', 'diatC', 'diatP',\n",
    "                'diatFe', 'diatSi', 'diazChl', 'diazC', 'diazP', 'diazFe']\n",
    "alt_co2_tracers = ['DIC', 'ALK']\n",
    "ciso_tracers = ['DI13C', 'DO13C', 'DI14C', 'DO14C', 'zoo13C', 'zoo14C', 'sp14C', 'sp14C',\n",
    "                'spCa13CO3', 'spCa14CO3', 'diat13C', 'diat14c', 'diaz13C', 'diaz14C']\n",
    "# For MCOG_vars, need to determine number of bins\n",
    "MCOG_vars = []\n",
    "nbins = len([v for v in ds_in.variables if v.startswith('FRACR_BIN_')])\n",
    "for n in range(0,nbins):\n",
    "    for varname in ['FRACR_BIN', 'QSW_BIN']:\n",
    "        MCOG_vars.append('{}_{:02d}'.format(varname, n+1))\n",
    "\n",
    "vars_to_keep = grid_vars + forcing_vars + base_tracers + ciso_tracers + MCOG_vars\n",
    "\n",
    "for n in range(0, ncol):\n",
    "    lon = ds_in.isel(time=0, nlat=lat_in[n], nlon=lon_in[n])['TLONG'].values\n",
    "    lat = ds_in.isel(time=0, nlat=lat_in[n], nlon=lon_in[n])['TLAT'].values\n",
    "    active_level_cnt = ds_in.isel(time=0, nlat=lat_in[n], nlon=lon_in[n])['KMT'].values\n",
    "\n",
    "    # Verify location\n",
    "    print('Column {} of {}:'.format(n+1, ncol))\n",
    "    print('(lon, lat) = ({:.1f}, {:.3f})'.format(lon, lat))\n",
    "    print('There are {} levels'.format(active_level_cnt))\n",
    "    if n < ncol-1:\n",
    "        print('\\n')\n",
    "\n",
    "# Set up separate data sets for forcing and initial conditions\n",
    "#forcing_col = raw_data.copy(deep=True)\n",
    "#forcing_col.drop([v for v in raw_data.variables if v not in grid_vars + forcing_vars])"
   ]
  },
  {
   "cell_type": "code",
   "execution_count": 4,
   "metadata": {},
   "outputs": [],
   "source": [
    "# Reduce data\n",
    "raw_data_list = []\n",
    "for n in range(0, ncol):\n",
    "    raw_data_list.append(ds_in.isel(time=0, nlat=lat_in[n], nlon=lon_in[n]).drop([v for v in ds_in.variables if v not in vars_to_keep]))\n",
    "    FillVal_r8 = ds_in['TLAT'].encoding['_FillValue']\n",
    "    for var_name in raw_data_list[n].variables:\n",
    "        if 'coordinates' in raw_data_list[n][var_name].attrs:\n",
    "            del(raw_data_list[n][var_name].attrs['coordinates'])\n",
    "        if raw_data_list[n][var_name].values.dtype == 'float64':\n",
    "            raw_data_list[n][var_name].encoding['_FillValue'] = FillVal_r8\n",
    "\n",
    "raw_data = xr.concat(raw_data_list, 'column')\n",
    "raw_data.to_netcdf('raw_data.nc')"
   ]
  },
  {
   "cell_type": "code",
   "execution_count": 5,
   "metadata": {},
   "outputs": [],
   "source": [
    "# Variables to keep (MARBL variable names)\n",
    "grid_vars_to_MARBL = {'lat': 'TLAT', 'lon' : 'TLONG', 'z_t' : 'z_t', 'z_w_bot' : 'z_w_bot', 'delta_z' : 'dz'}\n",
    "forcing_vars_to_MARBL = {'temperature' : 'TEMP', 'salinity' : 'SALT', 'atm_pressure' : 'ECOSYS_ATM_PRESS',\n",
    "                         'ice_frac' : 'ECOSYS_IFRAC', 'iron_flux' : 'IRON_FLUX', 'nox_flux' : 'NOx_FLUX', 'nhy_flux' : 'NHy_FLUX',\n",
    "                         'atm_co2' : 'ATM_CO2', 'atm_alt_co2' : 'ATM_CO2', 'iron_sed_flux' : 'FESEDFLUX'}\n",
    "\n",
    "MARBL_data = raw_data.copy(deep=True).drop(raw_data.variables)\n",
    "MARBL_data['active_level_cnt'] = active_level_cnt\n",
    "MARBL_data['active_level_cnt'].attrs['long_name'] = 'Number of active levels'\n",
    "\n",
    "for MARBL_name, POP_name in grid_vars_to_MARBL.items():\n",
    "    MARBL_data[MARBL_name] = raw_data[POP_name]\n",
    "for MARBL_name, POP_name in forcing_vars_to_MARBL.items():\n",
    "    MARBL_data[MARBL_name] = raw_data[POP_name]\n",
    "for tracer_name in base_tracers:\n",
    "    MARBL_data[tracer_name] = raw_data[tracer_name]\n",
    "    if tracer_name in alt_co2_tracers:\n",
    "        MARBL_data['{}_ALT_CO2'.format(tracer_name)] = raw_data[tracer_name]\n",
    "\n",
    "# Define all MARBL_data variables prior to populating\n",
    "# Metadata will be overwritten, so use ECOSYS_IFRAC for 2D vars\n",
    "# and TEMP for 3D vars\n",
    "MARBL_data['u10_sqr'] = raw_data['ECOSYS_IFRAC']\n",
    "MARBL_data['pressure'] = raw_data['TEMP']\n",
    "\n",
    "# unit conversion\n",
    "# cm to m\n",
    "for varname in ['z_t', 'z_w_bot', 'delta_z']:\n",
    "    MARBL_data[varname].values = raw_data[grid_vars_to_MARBL[varname]].values*0.01\n",
    "    MARBL_data[varname].attrs['units'] = 'm'\n",
    "\n",
    "# nmol/cm^2/s to mmol/m^2/s\n",
    "for varname in ['nox_flux', 'nhy_flux']:\n",
    "    MARBL_data[varname].values = raw_data[forcing_vars_to_MARBL[varname]].values*0.01\n",
    "    MARBL_data[varname].attrs['units'] = 'mmol/m^2/s'\n",
    "\n",
    "# salinity units should be psu\n",
    "MARBL_data['salinity'].attrs['units'] = 'psu'\n",
    "\n",
    "# Add SST SSS to dataset\n",
    "MARBL_data['SST'] = physics.get_surface_value(MARBL_data['temperature'])\n",
    "MARBL_data['SSS'] = physics.get_surface_value(MARBL_data['salinity'])\n",
    "\n",
    "# u10_sqr\n",
    "varname = 'u10_sqr'\n",
    "# first just populate it with ECOSYS_XKW (another scalar) to get all metadata\n",
    "MARBL_data[varname].values = physics.xkw_to_u10sqr(raw_data['ECOSYS_XKW'].values)\n",
    "MARBL_data[varname].attrs['long_name'] = '10m wind speed squared'\n",
    "MARBL_data[varname].attrs['units'] = 'm^2/s^2'\n",
    "\n",
    "# pressure\n",
    "varname = 'pressure'\n",
    "# first just populate it with TEMP (another 1D var) to get all metadata\n",
    "MARBL_data[varname].values = np.where(np.isnan(raw_data['TEMP'].values),\n",
    "                                      np.nan,\n",
    "                                      physics.depth_to_pressure(MARBL_data['z_t'].values))\n",
    "MARBL_data[varname].attrs['long_name'] = 'Pressure'\n",
    "MARBL_data[varname].attrs['units'] = 'bars'\n",
    "FRACR_array = np.empty([ncol, nbins])\n",
    "QSW_array = np.empty([ncol, nbins])\n",
    "for col_id in range(0, ncol):\n",
    "    for bin_id in range(0,nbins):\n",
    "        FRACR_array[col_id, bin_id] = raw_data['FRACR_BIN_{:02d}'.format(n+1)].isel(column=col_id).values\n",
    "        QSW_array[col_id, bin_id] = raw_data['QSW_BIN_{:02d}'.format(n+1)].isel(column=col_id).values\n",
    "# Combine MCOG bin data into single variable\n",
    "#MCOG_ds = xr.Dataset({'FRACR_BIN': ('nbin', FRACR_array), 'QSW_BIN': ('nbin', QSW_array)})\n",
    "MARBL_data['FRACR_BIN'] = xr.DataArray(FRACR_array, dims=['column', 'nbin'])\n",
    "MARBL_data['QSW_BIN'] = xr.DataArray(QSW_array, dims=['column', 'nbin'])\n",
    "\n",
    "# dust flux is sum of atm fine dust, atm coarse dust, and seaice dust fluxes\n",
    "varname = 'dust_flux'\n",
    "MARBL_data[varname] = raw_data['ATM_FINE_DUST_FLUX_CPL'] + raw_data['ATM_COARSE_DUST_FLUX_CPL'] + \\\n",
    "                          raw_data['SEAICE_DUST_FLUX_CPL']\n",
    "MARBL_data[varname].attrs = raw_data['ATM_FINE_DUST_FLUX_CPL'].attrs\n",
    "MARBL_data[varname].attrs['long_name'] = 'Dust Flux'\n",
    "# convert to kg/m^2/s\n",
    "MARBL_data[varname].values = MARBL_data[varname].values*10.\n",
    "MARBL_data[varname].attrs['units'] = 'kg/m^2/s'\n",
    "\n",
    "MARBL_data.rename({'z_t' : 'zt', 'z_w_bot' : 'zw'}, inplace=True)\n",
    "\n",
    "for var_name in MARBL_data.variables:\n",
    "    if MARBL_data[var_name].values.dtype == 'float64':\n",
    "        MARBL_data[var_name].encoding['_FillValue'] = FillVal_r8\n",
    "\n",
    "MARBL_data.to_netcdf('marbl.nc')"
   ]
  },
  {
   "cell_type": "code",
   "execution_count": 6,
   "metadata": {
    "collapsed": true,
    "deletable": true,
    "editable": true
   },
   "outputs": [],
   "source": [
    "def update_xlim(interior_forcing):\n",
    "    if interior_forcing == 'temperature':\n",
    "        plt.xlim(-2, 13)\n",
    "    elif interior_forcing == 'salinity':\n",
    "        plt.xlim(34, 35)\n",
    "    elif interior_forcing == 'pressure':\n",
    "        plt.xlim(0,400)\n",
    "    else:\n",
    "        raise ValueError(\"Can not set xlim for '{}'\".format(interior_forcing))"
   ]
  },
  {
   "cell_type": "code",
   "execution_count": 7,
   "metadata": {
    "collapsed": false,
    "deletable": true,
    "editable": true
   },
   "outputs": [
    {
     "data": {
      "image/png": "[encoded data removed]",
      "text/plain": [
       "<Figure size 432x288 with 3 Axes>"
      ]
     },
     "metadata": {},
     "output_type": "display_data"
    },
    {
     "data": {
      "image/png": "[encoded data removed]",
      "text/plain": [
       "<Figure size 432x288 with 3 Axes>"
      ]
     },
     "metadata": {},
     "output_type": "display_data"
    }
   ],
   "source": [
    "vars_to_plot = ['temperature', 'salinity', 'pressure']\n",
    "nvars = len(vars_to_plot)\n",
    "\n",
    "for col_id in range(0, ncol):\n",
    "    fig, axes = plt.subplots(ncols=nvars)\n",
    "    fig.suptitle('Column {}: ({:.2f}, {:.2f})'.format(col_id+1, MARBL_data['lon'].isel(column=col_id).values, MARBL_data['lat'].isel(column=col_id).values))\n",
    "    plt.xlim(400000,0)\n",
    "\n",
    "    for n, interior_forcing in enumerate(vars_to_plot):\n",
    "        MARBL_data[interior_forcing].plot(ax=axes[n])\n",
    "        plt.subplot(1,nvars,n+1);\n",
    "        plt.plot(MARBL_data[interior_forcing].isel(column=col_id).values, MARBL_data['zt'].values);\n",
    "        plt.ylim(max(MARBL_data['zt'].values), min(MARBL_data['zt'].values));\n",
    "        plt.xlabel(interior_forcing)\n",
    "        # Only want y-axis label and tick labels on left-most plot\n",
    "        plt.ylabel(\"depth (m)\" if (n == 0) else \"\")\n",
    "        plt.tick_params(labelleft=(n == 0))\n",
    "\n",
    "        update_xlim(interior_forcing);"
   ]
  }
 ],
 "metadata": {
  "kernelspec": {
   "display_name": "Python 3",
   "language": "python",
   "name": "python3"
  },
  "language_info": {
   "codemirror_mode": {
    "name": "ipython",
    "version": 3
   },
   "file_extension": ".py",
   "mimetype": "text/x-python",
   "name": "python",
   "nbconvert_exporter": "python",
   "pygments_lexer": "ipython3",
   "version": "3.6.6"
  }
 },
 "nbformat": 4,
 "nbformat_minor": 2
}
